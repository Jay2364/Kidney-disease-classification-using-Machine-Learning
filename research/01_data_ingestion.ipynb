{
 "cells": [
  {
   "cell_type": "code",
   "execution_count": 48,
   "metadata": {
    "ExecuteTime": {
     "end_time": "2023-10-24T07:54:49.060541Z",
     "start_time": "2023-10-24T07:54:49.053235Z"
    }
   },
   "outputs": [],
   "source": [
    "import os"
   ]
  },
  {
   "cell_type": "code",
   "execution_count": 49,
   "metadata": {
    "ExecuteTime": {
     "end_time": "2023-10-24T07:54:49.672696Z",
     "start_time": "2023-10-24T07:54:49.665264Z"
    }
   },
   "outputs": [
    {
     "data": {
      "text/plain": "'/Users/anujvaghani0/Developer/projects/Kidney-Disease-Classification-End-To-End-project'"
     },
     "execution_count": 49,
     "metadata": {},
     "output_type": "execute_result"
    }
   ],
   "source": [
    "%pwd\n"
   ]
  },
  {
   "cell_type": "code",
   "execution_count": 50,
   "metadata": {
    "ExecuteTime": {
     "end_time": "2023-10-24T07:54:50.192289Z",
     "start_time": "2023-10-24T07:54:50.185983Z"
    }
   },
   "outputs": [],
   "source": [
    "os.chdir(\"../\")\n"
   ]
  },
  {
   "cell_type": "code",
   "execution_count": 51,
   "metadata": {
    "ExecuteTime": {
     "end_time": "2023-10-24T07:54:50.716462Z",
     "start_time": "2023-10-24T07:54:50.698649Z"
    }
   },
   "outputs": [
    {
     "data": {
      "text/plain": "'/Users/anujvaghani0/Developer/projects'"
     },
     "execution_count": 51,
     "metadata": {},
     "output_type": "execute_result"
    }
   ],
   "source": [
    "%pwd\n"
   ]
  },
  {
   "cell_type": "code",
   "execution_count": 52,
   "metadata": {
    "ExecuteTime": {
     "end_time": "2023-10-24T07:54:51.171214Z",
     "start_time": "2023-10-24T07:54:51.162315Z"
    }
   },
   "outputs": [],
   "source": [
    "from dataclasses import dataclass\n",
    "from pathlib import Path\n",
    "\n",
    "\n",
    "@dataclass(frozen=True)\n",
    "class DataIngestionConfig:\n",
    "    root_dir: Path\n",
    "    source_URL: str\n",
    "    local_data_file: Path\n",
    "    unzip_dir: Path"
   ]
  },
  {
   "cell_type": "code",
   "execution_count": 53,
   "metadata": {
    "ExecuteTime": {
     "end_time": "2023-10-24T07:54:52.640256Z",
     "start_time": "2023-10-24T07:54:52.618754Z"
    }
   },
   "outputs": [],
   "source": [
    "from src.cnnClassifier.constants import *\n",
    "from src.cnnClassifier.utils.common import read_yaml, create_directories"
   ]
  },
  {
   "cell_type": "code",
   "execution_count": 54,
   "metadata": {
    "ExecuteTime": {
     "end_time": "2023-10-24T07:54:53.540718Z",
     "start_time": "2023-10-24T07:54:53.532531Z"
    }
   },
   "outputs": [],
   "source": [
    "class ConfigurationManager:\n",
    "    def __init__(\n",
    "        self,\n",
    "        config_filepath = CONFIG_FILE_PATH,\n",
    "        params_filepath = PARAMS_FILE_PATH):\n",
    "\n",
    "        self.config = read_yaml(config_filepath)\n",
    "        self.params = read_yaml(params_filepath)\n",
    "\n",
    "        create_directories([self.config.artifacts_root])\n",
    "\n",
    "\n",
    "    \n",
    "    def get_data_ingestion_config(self) -> DataIngestionConfig:\n",
    "        config = self.config.data_ingestion\n",
    "\n",
    "        create_directories([config.root_dir])\n",
    "\n",
    "        data_ingestion_config = DataIngestionConfig(\n",
    "            root_dir=config.root_dir,\n",
    "            source_URL=config.source_URL,\n",
    "            local_data_file=config.local_data_file,\n",
    "            unzip_dir=config.unzip_dir \n",
    "        )\n",
    "\n",
    "        return data_ingestion_config"
   ]
  },
  {
   "cell_type": "code",
   "execution_count": 55,
   "metadata": {
    "ExecuteTime": {
     "end_time": "2023-10-24T07:54:54.157782Z",
     "start_time": "2023-10-24T07:54:54.151033Z"
    }
   },
   "outputs": [],
   "source": [
    "import os\n",
    "import zipfile\n",
    "import gdown\n",
    "from src.cnnClassifier import logger\n",
    "from src.cnnClassifier.utils.common import get_size"
   ]
  },
  {
   "cell_type": "code",
   "execution_count": 56,
   "metadata": {
    "ExecuteTime": {
     "end_time": "2023-10-24T07:54:54.777594Z",
     "start_time": "2023-10-24T07:54:54.772825Z"
    }
   },
   "outputs": [],
   "source": [
    "class DataIngestion:\n",
    "    def __init__(self, config: DataIngestionConfig):\n",
    "        self.config = config\n",
    "\n",
    "    \n",
    "    def download_file(self)-> str:\n",
    "        '''\n",
    "        Fetch data from the url\n",
    "        '''\n",
    "\n",
    "        try: \n",
    "            dataset_url = self.config.source_URL\n",
    "            zip_download_dir = self.config.local_data_file\n",
    "            os.makedirs(\"artifacts/data_ingestion\", exist_ok=True)\n",
    "            logger.info(f\"Downloading data from {dataset_url} into file {zip_download_dir}\")\n",
    "\n",
    "            file_id = dataset_url.split(\"/\")[-2]\n",
    "            prefix = 'https://drive.google.com/uc?/export=download&id='\n",
    "            gdown.download(prefix+file_id,zip_download_dir)\n",
    "\n",
    "            logger.info(f\"Downloaded data from {dataset_url} into file {zip_download_dir}\")\n",
    "\n",
    "        except Exception as e:\n",
    "            raise e\n",
    "        \n",
    "    \n",
    "\n",
    "    def extract_zip_file(self):\n",
    "        \"\"\"\n",
    "        zip_file_path: str\n",
    "        Extracts the zip file into the data directory\n",
    "        Function returns None\n",
    "        \"\"\"\n",
    "        unzip_path = self.config.unzip_dir\n",
    "        os.makedirs(unzip_path, exist_ok=True)\n",
    "        with zipfile.ZipFile(self.config.local_data_file, 'r') as zip_ref:\n",
    "            zip_ref.extractall(unzip_path)"
   ]
  },
  {
   "cell_type": "code",
   "execution_count": 57,
   "outputs": [],
   "source": [
    "import ssl\n",
    "\n",
    "try:\n",
    "    _create_unverified_https_context = ssl._create_unverified_context\n",
    "except AttributeError:\n",
    "    # Legacy Python that doesn't verify HTTPS certificates by default\n",
    "    pass\n",
    "else:\n",
    "    # Handle target environment that doesn't support HTTPS verification\n",
    "    ssl._create_default_https_context = _create_unverified_https_context"
   ],
   "metadata": {
    "collapsed": false,
    "ExecuteTime": {
     "end_time": "2023-10-24T07:54:55.474795Z",
     "start_time": "2023-10-24T07:54:55.471002Z"
    }
   }
  },
  {
   "cell_type": "code",
   "execution_count": 58,
   "outputs": [
    {
     "ename": "FileNotFoundError",
     "evalue": "[Errno 2] No such file or directory: 'config/config.yaml'",
     "output_type": "error",
     "traceback": [
      "\u001B[0;31m---------------------------------------------------------------------------\u001B[0m",
      "\u001B[0;31mFileNotFoundError\u001B[0m                         Traceback (most recent call last)",
      "Cell \u001B[0;32mIn[58], line 8\u001B[0m\n\u001B[1;32m      6\u001B[0m     data_ingestion\u001B[38;5;241m.\u001B[39mextract_zip_file()\n\u001B[1;32m      7\u001B[0m \u001B[38;5;28;01mexcept\u001B[39;00m \u001B[38;5;167;01mException\u001B[39;00m \u001B[38;5;28;01mas\u001B[39;00m e:\n\u001B[0;32m----> 8\u001B[0m     \u001B[38;5;28;01mraise\u001B[39;00m e\n",
      "Cell \u001B[0;32mIn[58], line 2\u001B[0m\n\u001B[1;32m      1\u001B[0m \u001B[38;5;28;01mtry\u001B[39;00m:\n\u001B[0;32m----> 2\u001B[0m     config \u001B[38;5;241m=\u001B[39m \u001B[43mConfigurationManager\u001B[49m\u001B[43m(\u001B[49m\u001B[43m)\u001B[49m\n\u001B[1;32m      3\u001B[0m     data_ingestion_config \u001B[38;5;241m=\u001B[39m config\u001B[38;5;241m.\u001B[39mget_data_ingestion_config()\n\u001B[1;32m      4\u001B[0m     data_ingestion \u001B[38;5;241m=\u001B[39m DataIngestion(config\u001B[38;5;241m=\u001B[39mdata_ingestion_config)\n",
      "Cell \u001B[0;32mIn[54], line 7\u001B[0m, in \u001B[0;36mConfigurationManager.__init__\u001B[0;34m(self, config_filepath, params_filepath)\u001B[0m\n\u001B[1;32m      2\u001B[0m \u001B[38;5;28;01mdef\u001B[39;00m \u001B[38;5;21m__init__\u001B[39m(\n\u001B[1;32m      3\u001B[0m     \u001B[38;5;28mself\u001B[39m,\n\u001B[1;32m      4\u001B[0m     config_filepath \u001B[38;5;241m=\u001B[39m CONFIG_FILE_PATH,\n\u001B[1;32m      5\u001B[0m     params_filepath \u001B[38;5;241m=\u001B[39m PARAMS_FILE_PATH):\n\u001B[0;32m----> 7\u001B[0m     \u001B[38;5;28mself\u001B[39m\u001B[38;5;241m.\u001B[39mconfig \u001B[38;5;241m=\u001B[39m \u001B[43mread_yaml\u001B[49m\u001B[43m(\u001B[49m\u001B[43mconfig_filepath\u001B[49m\u001B[43m)\u001B[49m\n\u001B[1;32m      8\u001B[0m     \u001B[38;5;28mself\u001B[39m\u001B[38;5;241m.\u001B[39mparams \u001B[38;5;241m=\u001B[39m read_yaml(params_filepath)\n\u001B[1;32m     10\u001B[0m     create_directories([\u001B[38;5;28mself\u001B[39m\u001B[38;5;241m.\u001B[39mconfig\u001B[38;5;241m.\u001B[39martifacts_root])\n",
      "File \u001B[0;32m~/Developer/projects/Kidney-Disease-Classification-End-To-End-project/kidenyClassification/lib/python3.8/site-packages/ensure/main.py:849\u001B[0m, in \u001B[0;36mWrappedFunctionReturn.__call__\u001B[0;34m(self, *args, **kwargs)\u001B[0m\n\u001B[1;32m    841\u001B[0m         msg \u001B[38;5;241m=\u001B[39m (\n\u001B[1;32m    842\u001B[0m             \u001B[38;5;124m\"\u001B[39m\u001B[38;5;124mArgument \u001B[39m\u001B[38;5;132;01m{arg}\u001B[39;00m\u001B[38;5;124m of type \u001B[39m\u001B[38;5;132;01m{valt}\u001B[39;00m\u001B[38;5;124m to \u001B[39m\u001B[38;5;132;01m{f}\u001B[39;00m\u001B[38;5;124m \u001B[39m\u001B[38;5;124m\"\u001B[39m\n\u001B[1;32m    843\u001B[0m             \u001B[38;5;124m\"\u001B[39m\u001B[38;5;124mdoes not match annotation type \u001B[39m\u001B[38;5;132;01m{t}\u001B[39;00m\u001B[38;5;124m\"\u001B[39m\n\u001B[1;32m    844\u001B[0m         )\n\u001B[1;32m    845\u001B[0m         \u001B[38;5;28;01mraise\u001B[39;00m EnsureError(msg\u001B[38;5;241m.\u001B[39mformat(\n\u001B[1;32m    846\u001B[0m             arg\u001B[38;5;241m=\u001B[39marg, f\u001B[38;5;241m=\u001B[39m\u001B[38;5;28mself\u001B[39m\u001B[38;5;241m.\u001B[39mf, t\u001B[38;5;241m=\u001B[39mtempl, valt\u001B[38;5;241m=\u001B[39m\u001B[38;5;28mtype\u001B[39m(value)\n\u001B[1;32m    847\u001B[0m         ))\n\u001B[0;32m--> 849\u001B[0m return_val \u001B[38;5;241m=\u001B[39m \u001B[38;5;28;43mself\u001B[39;49m\u001B[38;5;241;43m.\u001B[39;49m\u001B[43mf\u001B[49m\u001B[43m(\u001B[49m\u001B[38;5;241;43m*\u001B[39;49m\u001B[43margs\u001B[49m\u001B[43m,\u001B[49m\u001B[43m \u001B[49m\u001B[38;5;241;43m*\u001B[39;49m\u001B[38;5;241;43m*\u001B[39;49m\u001B[43mkwargs\u001B[49m\u001B[43m)\u001B[49m\n\u001B[1;32m    850\u001B[0m \u001B[38;5;28;01mif\u001B[39;00m \u001B[38;5;129;01mnot\u001B[39;00m \u001B[38;5;28misinstance\u001B[39m(return_val, \u001B[38;5;28mself\u001B[39m\u001B[38;5;241m.\u001B[39mreturn_templ):\n\u001B[1;32m    851\u001B[0m     msg \u001B[38;5;241m=\u001B[39m (\n\u001B[1;32m    852\u001B[0m         \u001B[38;5;124m\"\u001B[39m\u001B[38;5;124mReturn value of \u001B[39m\u001B[38;5;132;01m{f}\u001B[39;00m\u001B[38;5;124m of type \u001B[39m\u001B[38;5;132;01m{valt}\u001B[39;00m\u001B[38;5;124m \u001B[39m\u001B[38;5;124m\"\u001B[39m\n\u001B[1;32m    853\u001B[0m         \u001B[38;5;124m\"\u001B[39m\u001B[38;5;124mdoes not match annotation type \u001B[39m\u001B[38;5;132;01m{t}\u001B[39;00m\u001B[38;5;124m\"\u001B[39m\n\u001B[1;32m    854\u001B[0m     )\n",
      "File \u001B[0;32m~/Developer/projects/Kidney-Disease-Classification-End-To-End-project/src/cnnClassifier/utils/common.py:37\u001B[0m, in \u001B[0;36mread_yaml\u001B[0;34m(path_to_yaml)\u001B[0m\n\u001B[1;32m     35\u001B[0m     \u001B[38;5;28;01mraise\u001B[39;00m \u001B[38;5;167;01mValueError\u001B[39;00m(\u001B[38;5;124m\"\u001B[39m\u001B[38;5;124myaml file is empty\u001B[39m\u001B[38;5;124m\"\u001B[39m)\n\u001B[1;32m     36\u001B[0m \u001B[38;5;28;01mexcept\u001B[39;00m \u001B[38;5;167;01mException\u001B[39;00m \u001B[38;5;28;01mas\u001B[39;00m e:\n\u001B[0;32m---> 37\u001B[0m     \u001B[38;5;28;01mraise\u001B[39;00m e\n",
      "File \u001B[0;32m~/Developer/projects/Kidney-Disease-Classification-End-To-End-project/src/cnnClassifier/utils/common.py:30\u001B[0m, in \u001B[0;36mread_yaml\u001B[0;34m(path_to_yaml)\u001B[0m\n\u001B[1;32m     17\u001B[0m \u001B[38;5;250m\u001B[39m\u001B[38;5;124;03m\"\"\"reads yaml file and returns\u001B[39;00m\n\u001B[1;32m     18\u001B[0m \n\u001B[1;32m     19\u001B[0m \u001B[38;5;124;03mArgs:\u001B[39;00m\n\u001B[0;32m   (...)\u001B[0m\n\u001B[1;32m     27\u001B[0m \u001B[38;5;124;03m    ConfigBox: ConfigBox type\u001B[39;00m\n\u001B[1;32m     28\u001B[0m \u001B[38;5;124;03m\"\"\"\u001B[39;00m\n\u001B[1;32m     29\u001B[0m \u001B[38;5;28;01mtry\u001B[39;00m:\n\u001B[0;32m---> 30\u001B[0m     \u001B[38;5;28;01mwith\u001B[39;00m \u001B[38;5;28;43mopen\u001B[39;49m\u001B[43m(\u001B[49m\u001B[43mpath_to_yaml\u001B[49m\u001B[43m)\u001B[49m \u001B[38;5;28;01mas\u001B[39;00m yaml_file:\n\u001B[1;32m     31\u001B[0m         content \u001B[38;5;241m=\u001B[39m yaml\u001B[38;5;241m.\u001B[39msafe_load(yaml_file)\n\u001B[1;32m     32\u001B[0m         logger\u001B[38;5;241m.\u001B[39minfo(\u001B[38;5;124mf\u001B[39m\u001B[38;5;124m\"\u001B[39m\u001B[38;5;124myaml file: \u001B[39m\u001B[38;5;132;01m{\u001B[39;00mpath_to_yaml\u001B[38;5;132;01m}\u001B[39;00m\u001B[38;5;124m loaded successfully\u001B[39m\u001B[38;5;124m\"\u001B[39m)\n",
      "\u001B[0;31mFileNotFoundError\u001B[0m: [Errno 2] No such file or directory: 'config/config.yaml'"
     ]
    }
   ],
   "source": [
    "\n",
    "try:\n",
    "    config = ConfigurationManager()\n",
    "    data_ingestion_config = config.get_data_ingestion_config()\n",
    "    data_ingestion = DataIngestion(config=data_ingestion_config)\n",
    "    data_ingestion.download_file()\n",
    "    data_ingestion.extract_zip_file()\n",
    "except Exception as e:\n",
    "    raise e"
   ],
   "metadata": {
    "collapsed": false,
    "ExecuteTime": {
     "end_time": "2023-10-24T07:54:57.652903Z",
     "start_time": "2023-10-24T07:54:57.397530Z"
    }
   }
  },
  {
   "cell_type": "code",
   "execution_count": null,
   "outputs": [],
   "source": [
    "x"
   ],
   "metadata": {
    "collapsed": false
   }
  }
 ],
 "metadata": {
  "kernelspec": {
   "display_name": "Python 3 (ipykernel)",
   "language": "python",
   "name": "python3"
  },
  "language_info": {
   "codemirror_mode": {
    "name": "ipython",
    "version": 3
   },
   "file_extension": ".py",
   "mimetype": "text/x-python",
   "name": "python",
   "nbconvert_exporter": "python",
   "pygments_lexer": "ipython3",
   "version": "3.8.0"
  }
 },
 "nbformat": 4,
 "nbformat_minor": 4
}
