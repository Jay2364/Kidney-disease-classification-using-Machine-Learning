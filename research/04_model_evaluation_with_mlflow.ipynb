{
 "cells": [
  {
   "cell_type": "code",
   "execution_count": 1,
   "id": "initial_id",
   "metadata": {
    "collapsed": true,
    "ExecuteTime": {
     "end_time": "2023-10-26T06:06:51.547867Z",
     "start_time": "2023-10-26T06:06:51.545434Z"
    }
   },
   "outputs": [],
   "source": [
    "import os\n"
   ]
  },
  {
   "cell_type": "code",
   "execution_count": 2,
   "outputs": [
    {
     "data": {
      "text/plain": "'/Users/anujvaghani0/Developer/projects/Kidney-Disease-Classification-End-To-End-project/research'"
     },
     "execution_count": 2,
     "metadata": {},
     "output_type": "execute_result"
    }
   ],
   "source": [
    "%pwd\n"
   ],
   "metadata": {
    "collapsed": false,
    "ExecuteTime": {
     "end_time": "2023-10-26T06:06:51.556508Z",
     "start_time": "2023-10-26T06:06:51.550986Z"
    }
   },
   "id": "8b14a60674392b5f"
  },
  {
   "cell_type": "code",
   "execution_count": 3,
   "outputs": [],
   "source": [
    "os.chdir(\"../\")\n"
   ],
   "metadata": {
    "collapsed": false,
    "ExecuteTime": {
     "end_time": "2023-10-26T06:06:51.556737Z",
     "start_time": "2023-10-26T06:06:51.553978Z"
    }
   },
   "id": "62006d8c07543826"
  },
  {
   "cell_type": "code",
   "execution_count": 4,
   "outputs": [
    {
     "data": {
      "text/plain": "'/Users/anujvaghani0/Developer/projects/Kidney-Disease-Classification-End-To-End-project'"
     },
     "execution_count": 4,
     "metadata": {},
     "output_type": "execute_result"
    }
   ],
   "source": [
    "%pwd\n"
   ],
   "metadata": {
    "collapsed": false,
    "ExecuteTime": {
     "end_time": "2023-10-26T06:06:51.570718Z",
     "start_time": "2023-10-26T06:06:51.557606Z"
    }
   },
   "id": "3aef7b82a1ef0347"
  },
  {
   "cell_type": "code",
   "execution_count": 5,
   "outputs": [],
   "source": [
    "import tensorflow as tf"
   ],
   "metadata": {
    "collapsed": false,
    "ExecuteTime": {
     "end_time": "2023-10-26T06:06:54.958228Z",
     "start_time": "2023-10-26T06:06:51.561892Z"
    }
   },
   "id": "92543ebd62a2f0a9"
  },
  {
   "cell_type": "code",
   "execution_count": 6,
   "outputs": [
    {
     "name": "stderr",
     "output_type": "stream",
     "text": [
      "WARNING:absl:At this time, the v2.11+ optimizer `tf.keras.optimizers.SGD` runs slowly on M1/M2 Macs, please use the legacy Keras optimizer instead, located at `tf.keras.optimizers.legacy.SGD`.\n"
     ]
    }
   ],
   "source": [
    "model = tf.keras.models.load_model(\"artifacts/training/model.h5\")\n"
   ],
   "metadata": {
    "collapsed": false,
    "ExecuteTime": {
     "end_time": "2023-10-26T06:06:55.341214Z",
     "start_time": "2023-10-26T06:06:54.955214Z"
    }
   },
   "id": "221244b925a47590"
  },
  {
   "cell_type": "code",
   "execution_count": 7,
   "outputs": [],
   "source": [
    "from dataclasses import dataclass\n",
    "from pathlib import Path\n",
    "\n",
    "@dataclass(frozen=True)\n",
    "class EvaluationConfig:\n",
    "    path_of_model: Path\n",
    "    training_data: Path\n",
    "    all_params: dict\n",
    "    mlflow_uri: str\n",
    "    params_image_size: list\n",
    "    params_batch_size: int"
   ],
   "metadata": {
    "collapsed": false,
    "ExecuteTime": {
     "end_time": "2023-10-26T06:06:55.347043Z",
     "start_time": "2023-10-26T06:06:55.343161Z"
    }
   },
   "id": "e757214ce14d79e8"
  },
  {
   "cell_type": "code",
   "execution_count": 8,
   "outputs": [],
   "source": [
    "from cnnClassifier.constants import *\n",
    "from cnnClassifier.utils.common import read_yaml, create_directories, save_json"
   ],
   "metadata": {
    "collapsed": false,
    "ExecuteTime": {
     "end_time": "2023-10-26T06:06:55.425249Z",
     "start_time": "2023-10-26T06:06:55.346300Z"
    }
   },
   "id": "f26e4616db99135f"
  },
  {
   "cell_type": "code",
   "execution_count": 9,
   "outputs": [],
   "source": [
    "class ConfigurationManager:\n",
    "    def __init__(\n",
    "        self, \n",
    "        config_filepath = CONFIG_FILE_PATH,\n",
    "        params_filepath = PARAMS_FILE_PATH):\n",
    "        self.config = read_yaml(config_filepath)\n",
    "        self.params = read_yaml(params_filepath)\n",
    "        create_directories([self.config.artifacts_root])\n",
    "\n",
    "    \n",
    "    def get_evaluation_config(self) -> EvaluationConfig:\n",
    "        eval_config = EvaluationConfig(\n",
    "            path_of_model=\"artifacts/training/model.h5\",\n",
    "            training_data=\"artifacts/data_ingestion/kidney-ct-scan-image\",\n",
    "            mlflow_uri=os.environ['MLFLOW_TRACKING_URI'],\n",
    "            all_params=self.params,\n",
    "            params_image_size=self.params.IMAGE_SIZE,\n",
    "            params_batch_size=self.params.BATCH_SIZE\n",
    "        )\n",
    "        return eval_config"
   ],
   "metadata": {
    "collapsed": false,
    "ExecuteTime": {
     "end_time": "2023-10-26T06:06:55.425523Z",
     "start_time": "2023-10-26T06:06:55.418690Z"
    }
   },
   "id": "40e7904df23b2a6e"
  },
  {
   "cell_type": "code",
   "execution_count": 13,
   "outputs": [],
   "source": [
    "import tensorflow as tf\n",
    "from pathlib import Path\n",
    "import mlflow\n",
    "import mlflow.keras\n",
    "from urllib.parse import urlparse\n",
    "\n",
    "\n",
    "import tensorflow as tf\n",
    "from tensorflow import keras\n",
    "import mlflow\n",
    "from urllib.parse import urlparse\n",
    "from pathlib import Path"
   ],
   "metadata": {
    "collapsed": false,
    "ExecuteTime": {
     "end_time": "2023-10-26T06:19:53.429450Z",
     "start_time": "2023-10-26T06:19:53.414229Z"
    }
   },
   "id": "b44767b4b55a5445"
  },
  {
   "cell_type": "code",
   "execution_count": 14,
   "outputs": [],
   "source": [
    "class Evaluation:\n",
    "    def __init__(self, config: EvaluationConfig):\n",
    "        self.config = config\n",
    "\n",
    "    \n",
    "    def _valid_generator(self):\n",
    "\n",
    "        datagenerator_kwargs = dict(\n",
    "            rescale = 1./255,\n",
    "            validation_split=0.30\n",
    "        )\n",
    "\n",
    "        dataflow_kwargs = dict(\n",
    "            target_size=self.config.params_image_size[:-1],\n",
    "            batch_size=self.config.params_batch_size,\n",
    "            interpolation=\"bilinear\"\n",
    "        )\n",
    "\n",
    "        valid_datagenerator = tf.keras.preprocessing.image.ImageDataGenerator(\n",
    "            **datagenerator_kwargs\n",
    "        )\n",
    "\n",
    "        self.valid_generator = valid_datagenerator.flow_from_directory(\n",
    "            directory=self.config.training_data,\n",
    "            subset=\"validation\",\n",
    "            shuffle=False,\n",
    "            **dataflow_kwargs\n",
    "        )\n",
    "\n",
    "    @staticmethod\n",
    "    def load_model(path: Path) -> tf.keras.Model:\n",
    "        return tf.keras.models.load_model(path)\n",
    "    \n",
    "    def evaluation(self):\n",
    "        self.model = self.load_model(self.config.path_of_model)\n",
    "        self._valid_generator()\n",
    "        self.score = model.evaluate(self.valid_generator)\n",
    "        self.save_score()\n",
    "\n",
    "    def save_score(self):\n",
    "        scores = {\"loss\": self.score[0], \"accuracy\": self.score[1]}\n",
    "        save_json(path=Path(\"scores.json\"), data=scores)\n",
    "\n",
    "    \n",
    "    def log_into_mlflow(self):\n",
    "        mlflow.set_registry_uri(self.config.mlflow_uri)\n",
    "        tracking_url_type_store = urlparse(mlflow.get_tracking_uri()).scheme\n",
    "        \n",
    "        with mlflow.start_run():\n",
    "            mlflow.log_params(self.config.all_params)\n",
    "            mlflow.log_metrics(\n",
    "                {\"loss\": self.score[0], \"accuracy\": self.score[1]}\n",
    "            )\n",
    "            # Model registry does not work with file store\n",
    "            if tracking_url_type_store != \"file\":\n",
    "\n",
    "                # Register the model\n",
    "                # There are other ways to use the Model Registry, which depends on the use case,\n",
    "                # please refer to the doc for more information:\n",
    "                # https://mlflow.org/docs/latest/model-registry.html#api-workflow\n",
    "                mlflow.keras.log_model(self.model, \"model\", registered_model_name=\"VGG16Model\")\n",
    "            else:\n",
    "                mlflow.keras.log_model(self.model, \"model\")"
   ],
   "metadata": {
    "collapsed": false,
    "ExecuteTime": {
     "end_time": "2023-10-26T06:19:56.455141Z",
     "start_time": "2023-10-26T06:19:56.450052Z"
    }
   },
   "id": "ca19794597427236"
  },
  {
   "cell_type": "code",
   "execution_count": 15,
   "outputs": [
    {
     "name": "stderr",
     "output_type": "stream",
     "text": [
      "WARNING:absl:At this time, the v2.11+ optimizer `tf.keras.optimizers.SGD` runs slowly on M1/M2 Macs, please use the legacy Keras optimizer instead, located at `tf.keras.optimizers.legacy.SGD`.\n"
     ]
    },
    {
     "name": "stdout",
     "output_type": "stream",
     "text": [
      "Found 139 images belonging to 2 classes.\n",
      "9/9 [==============================] - 40s 4s/step - loss: 18.3941 - accuracy: 0.4820\n"
     ]
    },
    {
     "name": "stderr",
     "output_type": "stream",
     "text": [
      "2023/10/26 11:50:59 WARNING mlflow.tensorflow: You are saving a TensorFlow Core model or Keras model without a signature. Inference with mlflow.pyfunc.spark_udf() will not work unless the model's pyfunc representation accepts pandas DataFrames as inference inputs.\n"
     ]
    },
    {
     "name": "stdout",
     "output_type": "stream",
     "text": [
      "INFO:tensorflow:Assets written to: /var/folders/7j/_zsr87ld2ds16zq14sxwqbrr0000gn/T/tmpn3t33bnm/model/data/model/assets\n"
     ]
    },
    {
     "name": "stderr",
     "output_type": "stream",
     "text": [
      "INFO:tensorflow:Assets written to: /var/folders/7j/_zsr87ld2ds16zq14sxwqbrr0000gn/T/tmpn3t33bnm/model/data/model/assets\n"
     ]
    },
    {
     "ename": "AttributeError",
     "evalue": "module 'tensorflow.keras' has no attribute '__version__'",
     "output_type": "error",
     "traceback": [
      "\u001B[0;31m---------------------------------------------------------------------------\u001B[0m",
      "\u001B[0;31mAttributeError\u001B[0m                            Traceback (most recent call last)",
      "Cell \u001B[0;32mIn[15], line 9\u001B[0m\n\u001B[1;32m      6\u001B[0m     evaluation\u001B[38;5;241m.\u001B[39mlog_into_mlflow()\n\u001B[1;32m      8\u001B[0m \u001B[38;5;28;01mexcept\u001B[39;00m \u001B[38;5;167;01mException\u001B[39;00m \u001B[38;5;28;01mas\u001B[39;00m e:\n\u001B[0;32m----> 9\u001B[0m    \u001B[38;5;28;01mraise\u001B[39;00m e\n",
      "Cell \u001B[0;32mIn[15], line 6\u001B[0m\n\u001B[1;32m      4\u001B[0m     evaluation \u001B[38;5;241m=\u001B[39m Evaluation(eval_config)\n\u001B[1;32m      5\u001B[0m     evaluation\u001B[38;5;241m.\u001B[39mevaluation()\n\u001B[0;32m----> 6\u001B[0m     \u001B[43mevaluation\u001B[49m\u001B[38;5;241;43m.\u001B[39;49m\u001B[43mlog_into_mlflow\u001B[49m\u001B[43m(\u001B[49m\u001B[43m)\u001B[49m\n\u001B[1;32m      8\u001B[0m \u001B[38;5;28;01mexcept\u001B[39;00m \u001B[38;5;167;01mException\u001B[39;00m \u001B[38;5;28;01mas\u001B[39;00m e:\n\u001B[1;32m      9\u001B[0m    \u001B[38;5;28;01mraise\u001B[39;00m e\n",
      "Cell \u001B[0;32mIn[14], line 61\u001B[0m, in \u001B[0;36mEvaluation.log_into_mlflow\u001B[0;34m(self)\u001B[0m\n\u001B[1;32m     54\u001B[0m \u001B[38;5;66;03m# Model registry does not work with file store\u001B[39;00m\n\u001B[1;32m     55\u001B[0m \u001B[38;5;28;01mif\u001B[39;00m tracking_url_type_store \u001B[38;5;241m!=\u001B[39m \u001B[38;5;124m\"\u001B[39m\u001B[38;5;124mfile\u001B[39m\u001B[38;5;124m\"\u001B[39m:\n\u001B[1;32m     56\u001B[0m \n\u001B[1;32m     57\u001B[0m     \u001B[38;5;66;03m# Register the model\u001B[39;00m\n\u001B[1;32m     58\u001B[0m     \u001B[38;5;66;03m# There are other ways to use the Model Registry, which depends on the use case,\u001B[39;00m\n\u001B[1;32m     59\u001B[0m     \u001B[38;5;66;03m# please refer to the doc for more information:\u001B[39;00m\n\u001B[1;32m     60\u001B[0m     \u001B[38;5;66;03m# https://mlflow.org/docs/latest/model-registry.html#api-workflow\u001B[39;00m\n\u001B[0;32m---> 61\u001B[0m     \u001B[43mmlflow\u001B[49m\u001B[38;5;241;43m.\u001B[39;49m\u001B[43mkeras\u001B[49m\u001B[38;5;241;43m.\u001B[39;49m\u001B[43mlog_model\u001B[49m\u001B[43m(\u001B[49m\u001B[38;5;28;43mself\u001B[39;49m\u001B[38;5;241;43m.\u001B[39;49m\u001B[43mmodel\u001B[49m\u001B[43m,\u001B[49m\u001B[43m \u001B[49m\u001B[38;5;124;43m\"\u001B[39;49m\u001B[38;5;124;43mmodel\u001B[39;49m\u001B[38;5;124;43m\"\u001B[39;49m\u001B[43m,\u001B[49m\u001B[43m \u001B[49m\u001B[43mregistered_model_name\u001B[49m\u001B[38;5;241;43m=\u001B[39;49m\u001B[38;5;124;43m\"\u001B[39;49m\u001B[38;5;124;43mVGG16Model\u001B[39;49m\u001B[38;5;124;43m\"\u001B[39;49m\u001B[43m)\u001B[49m\n\u001B[1;32m     62\u001B[0m \u001B[38;5;28;01melse\u001B[39;00m:\n\u001B[1;32m     63\u001B[0m     mlflow\u001B[38;5;241m.\u001B[39mkeras\u001B[38;5;241m.\u001B[39mlog_model(\u001B[38;5;28mself\u001B[39m\u001B[38;5;241m.\u001B[39mmodel, \u001B[38;5;124m\"\u001B[39m\u001B[38;5;124mmodel\u001B[39m\u001B[38;5;124m\"\u001B[39m)\n",
      "File \u001B[0;32m~/Developer/projects/Kidney-Disease-Classification-End-To-End-project/kidenyClassification/lib/python3.11/site-packages/mlflow/tensorflow/__init__.py:222\u001B[0m, in \u001B[0;36mlog_model\u001B[0;34m(model, artifact_path, custom_objects, conda_env, code_paths, signature, input_example, registered_model_name, await_registration_for, pip_requirements, extra_pip_requirements, saved_model_kwargs, keras_model_kwargs, metadata)\u001B[0m\n\u001B[1;32m    124\u001B[0m \u001B[38;5;129m@format_docstring\u001B[39m(LOG_MODEL_PARAM_DOCS\u001B[38;5;241m.\u001B[39mformat(package_name\u001B[38;5;241m=\u001B[39mFLAVOR_NAME))\n\u001B[1;32m    125\u001B[0m \u001B[38;5;28;01mdef\u001B[39;00m \u001B[38;5;21mlog_model\u001B[39m(\n\u001B[1;32m    126\u001B[0m     model,\n\u001B[0;32m   (...)\u001B[0m\n\u001B[1;32m    139\u001B[0m     metadata\u001B[38;5;241m=\u001B[39m\u001B[38;5;28;01mNone\u001B[39;00m,\n\u001B[1;32m    140\u001B[0m ):\n\u001B[1;32m    141\u001B[0m \u001B[38;5;250m    \u001B[39m\u001B[38;5;124;03m\"\"\"\u001B[39;00m\n\u001B[1;32m    142\u001B[0m \u001B[38;5;124;03m    Log a TF2 core model (inheriting tf.Module) or a Keras model in MLflow Model format.\u001B[39;00m\n\u001B[1;32m    143\u001B[0m \n\u001B[0;32m   (...)\u001B[0m\n\u001B[1;32m    219\u001B[0m \u001B[38;5;124;03m             metadata of the logged model.\u001B[39;00m\n\u001B[1;32m    220\u001B[0m \u001B[38;5;124;03m    \"\"\"\u001B[39;00m\n\u001B[0;32m--> 222\u001B[0m     \u001B[38;5;28;01mreturn\u001B[39;00m \u001B[43mModel\u001B[49m\u001B[38;5;241;43m.\u001B[39;49m\u001B[43mlog\u001B[49m\u001B[43m(\u001B[49m\n\u001B[1;32m    223\u001B[0m \u001B[43m        \u001B[49m\u001B[43martifact_path\u001B[49m\u001B[38;5;241;43m=\u001B[39;49m\u001B[43martifact_path\u001B[49m\u001B[43m,\u001B[49m\n\u001B[1;32m    224\u001B[0m \u001B[43m        \u001B[49m\u001B[43mflavor\u001B[49m\u001B[38;5;241;43m=\u001B[39;49m\u001B[43mmlflow\u001B[49m\u001B[38;5;241;43m.\u001B[39;49m\u001B[43mtensorflow\u001B[49m\u001B[43m,\u001B[49m\n\u001B[1;32m    225\u001B[0m \u001B[43m        \u001B[49m\u001B[43mmodel\u001B[49m\u001B[38;5;241;43m=\u001B[39;49m\u001B[43mmodel\u001B[49m\u001B[43m,\u001B[49m\n\u001B[1;32m    226\u001B[0m \u001B[43m        \u001B[49m\u001B[43mconda_env\u001B[49m\u001B[38;5;241;43m=\u001B[39;49m\u001B[43mconda_env\u001B[49m\u001B[43m,\u001B[49m\n\u001B[1;32m    227\u001B[0m \u001B[43m        \u001B[49m\u001B[43mcode_paths\u001B[49m\u001B[38;5;241;43m=\u001B[39;49m\u001B[43mcode_paths\u001B[49m\u001B[43m,\u001B[49m\n\u001B[1;32m    228\u001B[0m \u001B[43m        \u001B[49m\u001B[43mcustom_objects\u001B[49m\u001B[38;5;241;43m=\u001B[39;49m\u001B[43mcustom_objects\u001B[49m\u001B[43m,\u001B[49m\n\u001B[1;32m    229\u001B[0m \u001B[43m        \u001B[49m\u001B[43mregistered_model_name\u001B[49m\u001B[38;5;241;43m=\u001B[39;49m\u001B[43mregistered_model_name\u001B[49m\u001B[43m,\u001B[49m\n\u001B[1;32m    230\u001B[0m \u001B[43m        \u001B[49m\u001B[43msignature\u001B[49m\u001B[38;5;241;43m=\u001B[39;49m\u001B[43msignature\u001B[49m\u001B[43m,\u001B[49m\n\u001B[1;32m    231\u001B[0m \u001B[43m        \u001B[49m\u001B[43minput_example\u001B[49m\u001B[38;5;241;43m=\u001B[39;49m\u001B[43minput_example\u001B[49m\u001B[43m,\u001B[49m\n\u001B[1;32m    232\u001B[0m \u001B[43m        \u001B[49m\u001B[43mawait_registration_for\u001B[49m\u001B[38;5;241;43m=\u001B[39;49m\u001B[43mawait_registration_for\u001B[49m\u001B[43m,\u001B[49m\n\u001B[1;32m    233\u001B[0m \u001B[43m        \u001B[49m\u001B[43mpip_requirements\u001B[49m\u001B[38;5;241;43m=\u001B[39;49m\u001B[43mpip_requirements\u001B[49m\u001B[43m,\u001B[49m\n\u001B[1;32m    234\u001B[0m \u001B[43m        \u001B[49m\u001B[43mextra_pip_requirements\u001B[49m\u001B[38;5;241;43m=\u001B[39;49m\u001B[43mextra_pip_requirements\u001B[49m\u001B[43m,\u001B[49m\n\u001B[1;32m    235\u001B[0m \u001B[43m        \u001B[49m\u001B[43msaved_model_kwargs\u001B[49m\u001B[38;5;241;43m=\u001B[39;49m\u001B[43msaved_model_kwargs\u001B[49m\u001B[43m,\u001B[49m\n\u001B[1;32m    236\u001B[0m \u001B[43m        \u001B[49m\u001B[43mkeras_model_kwargs\u001B[49m\u001B[38;5;241;43m=\u001B[39;49m\u001B[43mkeras_model_kwargs\u001B[49m\u001B[43m,\u001B[49m\n\u001B[1;32m    237\u001B[0m \u001B[43m        \u001B[49m\u001B[43mmetadata\u001B[49m\u001B[38;5;241;43m=\u001B[39;49m\u001B[43mmetadata\u001B[49m\u001B[43m,\u001B[49m\n\u001B[1;32m    238\u001B[0m \u001B[43m    \u001B[49m\u001B[43m)\u001B[49m\n",
      "File \u001B[0;32m~/Developer/projects/Kidney-Disease-Classification-End-To-End-project/kidenyClassification/lib/python3.11/site-packages/mlflow/models/model.py:551\u001B[0m, in \u001B[0;36mModel.log\u001B[0;34m(cls, artifact_path, flavor, registered_model_name, await_registration_for, metadata, **kwargs)\u001B[0m\n\u001B[1;32m    549\u001B[0m run_id \u001B[38;5;241m=\u001B[39m mlflow\u001B[38;5;241m.\u001B[39mtracking\u001B[38;5;241m.\u001B[39mfluent\u001B[38;5;241m.\u001B[39m_get_or_start_run()\u001B[38;5;241m.\u001B[39minfo\u001B[38;5;241m.\u001B[39mrun_id\n\u001B[1;32m    550\u001B[0m mlflow_model \u001B[38;5;241m=\u001B[39m \u001B[38;5;28mcls\u001B[39m(artifact_path\u001B[38;5;241m=\u001B[39martifact_path, run_id\u001B[38;5;241m=\u001B[39mrun_id, metadata\u001B[38;5;241m=\u001B[39mmetadata)\n\u001B[0;32m--> 551\u001B[0m \u001B[43mflavor\u001B[49m\u001B[38;5;241;43m.\u001B[39;49m\u001B[43msave_model\u001B[49m\u001B[43m(\u001B[49m\u001B[43mpath\u001B[49m\u001B[38;5;241;43m=\u001B[39;49m\u001B[43mlocal_path\u001B[49m\u001B[43m,\u001B[49m\u001B[43m \u001B[49m\u001B[43mmlflow_model\u001B[49m\u001B[38;5;241;43m=\u001B[39;49m\u001B[43mmlflow_model\u001B[49m\u001B[43m,\u001B[49m\u001B[43m \u001B[49m\u001B[38;5;241;43m*\u001B[39;49m\u001B[38;5;241;43m*\u001B[39;49m\u001B[43mkwargs\u001B[49m\u001B[43m)\u001B[49m\n\u001B[1;32m    552\u001B[0m mlflow\u001B[38;5;241m.\u001B[39mtracking\u001B[38;5;241m.\u001B[39mfluent\u001B[38;5;241m.\u001B[39mlog_artifacts(local_path, mlflow_model\u001B[38;5;241m.\u001B[39martifact_path)\n\u001B[1;32m    553\u001B[0m \u001B[38;5;28;01mtry\u001B[39;00m:\n",
      "File \u001B[0;32m~/Developer/projects/Kidney-Disease-Classification-End-To-End-project/kidenyClassification/lib/python3.11/site-packages/mlflow/tensorflow/__init__.py:445\u001B[0m, in \u001B[0;36msave_model\u001B[0;34m(model, path, conda_env, code_paths, mlflow_model, custom_objects, signature, input_example, pip_requirements, extra_pip_requirements, saved_model_kwargs, keras_model_kwargs, metadata)\u001B[0m\n\u001B[1;32m    437\u001B[0m         model\u001B[38;5;241m.\u001B[39msave(model_path, \u001B[38;5;241m*\u001B[39m\u001B[38;5;241m*\u001B[39mkeras_model_kwargs)\n\u001B[1;32m    439\u001B[0m     pyfunc_options \u001B[38;5;241m=\u001B[39m {\n\u001B[1;32m    440\u001B[0m         \u001B[38;5;124m\"\u001B[39m\u001B[38;5;124mdata\u001B[39m\u001B[38;5;124m\"\u001B[39m: data_subpath,\n\u001B[1;32m    441\u001B[0m     }\n\u001B[1;32m    442\u001B[0m     flavor_options \u001B[38;5;241m=\u001B[39m {\n\u001B[1;32m    443\u001B[0m         \u001B[38;5;241m*\u001B[39m\u001B[38;5;241m*\u001B[39mpyfunc_options,\n\u001B[1;32m    444\u001B[0m         \u001B[38;5;124m\"\u001B[39m\u001B[38;5;124mmodel_type\u001B[39m\u001B[38;5;124m\"\u001B[39m: _MODEL_TYPE_KERAS,\n\u001B[0;32m--> 445\u001B[0m         \u001B[38;5;124m\"\u001B[39m\u001B[38;5;124mkeras_version\u001B[39m\u001B[38;5;124m\"\u001B[39m: \u001B[43mkeras_module\u001B[49m\u001B[38;5;241;43m.\u001B[39;49m\u001B[43m__version__\u001B[49m,\n\u001B[1;32m    446\u001B[0m         \u001B[38;5;124m\"\u001B[39m\u001B[38;5;124msave_format\u001B[39m\u001B[38;5;124m\"\u001B[39m: save_format,\n\u001B[1;32m    447\u001B[0m     }\n\u001B[1;32m    448\u001B[0m \u001B[38;5;28;01melif\u001B[39;00m \u001B[38;5;28misinstance\u001B[39m(model, tensorflow\u001B[38;5;241m.\u001B[39mModule):\n\u001B[1;32m    449\u001B[0m     saved_model_kwargs \u001B[38;5;241m=\u001B[39m saved_model_kwargs \u001B[38;5;129;01mor\u001B[39;00m {}\n",
      "\u001B[0;31mAttributeError\u001B[0m: module 'tensorflow.keras' has no attribute '__version__'"
     ]
    }
   ],
   "source": [
    "try:\n",
    "    config = ConfigurationManager()\n",
    "    eval_config = config.get_evaluation_config()\n",
    "    evaluation = Evaluation(eval_config)\n",
    "    evaluation.evaluation()\n",
    "    evaluation.log_into_mlflow()\n",
    "\n",
    "except Exception as e:\n",
    "   raise e"
   ],
   "metadata": {
    "collapsed": false,
    "ExecuteTime": {
     "end_time": "2023-10-26T06:21:04.282964Z",
     "start_time": "2023-10-26T06:19:58.604080Z"
    }
   },
   "id": "4bc9d866a3686220"
  },
  {
   "cell_type": "code",
   "execution_count": null,
   "outputs": [],
   "source": [],
   "metadata": {
    "collapsed": false
   },
   "id": "8888c1e4869adb24"
  }
 ],
 "metadata": {
  "kernelspec": {
   "display_name": "Python 3",
   "language": "python",
   "name": "python3"
  },
  "language_info": {
   "codemirror_mode": {
    "name": "ipython",
    "version": 2
   },
   "file_extension": ".py",
   "mimetype": "text/x-python",
   "name": "python",
   "nbconvert_exporter": "python",
   "pygments_lexer": "ipython2",
   "version": "2.7.6"
  }
 },
 "nbformat": 4,
 "nbformat_minor": 5
}
